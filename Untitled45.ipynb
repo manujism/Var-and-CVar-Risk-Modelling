{
  "nbformat": 4,
  "nbformat_minor": 0,
  "metadata": {
    "colab": {
      "provenance": [],
      "authorship_tag": "ABX9TyOcdk6Ol28y3mZiy/RX/9tj",
      "include_colab_link": true
    },
    "kernelspec": {
      "name": "python3",
      "display_name": "Python 3"
    },
    "language_info": {
      "name": "python"
    }
  },
  "cells": [
    {
      "cell_type": "markdown",
      "metadata": {
        "id": "view-in-github",
        "colab_type": "text"
      },
      "source": [
        "<a href=\"https://colab.research.google.com/github/manujism/Var-and-CVar-Risk-Modelling/blob/main/Untitled45.ipynb\" target=\"_parent\"><img src=\"https://colab.research.google.com/assets/colab-badge.svg\" alt=\"Open In Colab\"/></a>"
      ]
    },
    {
      "cell_type": "code",
      "execution_count": 1,
      "metadata": {
        "colab": {
          "base_uri": "https://localhost:8080/"
        },
        "id": "eh-YQr6XdYnF",
        "outputId": "90147e03-8c35-4f60-d9f3-0b53a6d75ff0"
      },
      "outputs": [
        {
          "output_type": "stream",
          "name": "stdout",
          "text": [
            "1-Day 95% VaR (Historical Simulation): $4,194.74\n",
            "1-Day 95% VaR (Parametric Normal):     $16,448.54\n",
            "[ 0.00546714 -0.00088264  0.00697689  0.0157303  -0.00184153 -0.00184137\n",
            "  0.01629213  0.00817435 -0.00419474  0.0059256 ]\n",
            "[-4194.74385935 -1841.53374723 -1841.36956949  -882.64301171\n",
            "  5467.14153011  5925.60043586  6976.88538101  8174.34729153\n",
            " 15730.29856408 16292.12815507]\n"
          ]
        }
      ],
      "source": [
        "import numpy as np\n",
        "from scipy.stats import norm\n",
        "\n",
        "\n",
        "np.random.seed(42)\n",
        "\n",
        "\n",
        "mean_return = 0.0005      # 0.05% daily mean\n",
        "std_dev = 0.01            # 1% daily standard deviation\n",
        "returns = np.random.normal(loc=mean_return, scale=std_dev, size=10)\n",
        "\n",
        "# Portfolio value\n",
        "portfolio_value = 1_000_000  # $1 million\n",
        "\n",
        "# Step 1: Historical Simulation VaR\n",
        "pnl = returns * portfolio_value\n",
        "sorted_pnl = np.sort(pnl)\n",
        "confidence_level = 0.95\n",
        "percentile_index = int((1 - confidence_level) * len(sorted_pnl))\n",
        "VaR_hist = -sorted_pnl[percentile_index]  # 5th percentile loss\n",
        "\n",
        "# Step 2: Parametric VaR (Assumes normal distribution)\n",
        "z_score = norm.ppf(1 - confidence_level)  # e.g., -1.645 for 95%\n",
        "VaR_param = -z_score * std_dev * portfolio_value  # No sqrt(T) since 1-day\n",
        "\n",
        "# Print results\n",
        "print(f\"1-Day 95% VaR (Historical Simulation): ${VaR_hist:,.2f}\")\n",
        "print(f\"1-Day 95% VaR (Parametric Normal):     ${VaR_param:,.2f}\")\n",
        "print(returns)\n",
        "print(sorted_pnl)"
      ]
    }
  ]
}